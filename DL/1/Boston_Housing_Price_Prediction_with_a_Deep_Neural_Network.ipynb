{
 "cells": [
  {
   "cell_type": "markdown",
   "metadata": {},
   "source": [
    "# Problem Statement\n",
    "\n",
    "**Linear regression by using Deep Neural network**: Implement Boston housing price prediction problem by Linear regression using Deep Neural network. Use Boston House price prediction dataset. "
   ]
  },
  {
   "cell_type": "markdown",
   "metadata": {
    "id": "YOTzZhdR9zZt"
   },
   "source": [
    "# Import Library"
   ]
  },
  {
   "cell_type": "code",
   "execution_count": 1,
   "metadata": {
    "id": "_F2vhnLJ3lm6"
   },
   "outputs": [
    {
     "name": "stdout",
     "output_type": "stream",
     "text": [
      "WARNING:tensorflow:From C:\\Users\\Diksha\\AppData\\Roaming\\Python\\Python311\\site-packages\\keras\\src\\losses.py:2976: The name tf.losses.sparse_softmax_cross_entropy is deprecated. Please use tf.compat.v1.losses.sparse_softmax_cross_entropy instead.\n",
      "\n"
     ]
    }
   ],
   "source": [
    "# Data analysis and visualization\n",
    "import tensorflow as tf\n",
    "import numpy as np\n",
    "import pandas as pd\n",
    "import matplotlib.pyplot as plt\n",
    "%matplotlib inline \n",
    "\n",
    "# Preprocessing and evaluation\n",
    "from sklearn.model_selection import train_test_split\n",
    "from sklearn.compose import make_column_transformer\n",
    "from sklearn.preprocessing import MinMaxScaler"
   ]
  },
  {
   "cell_type": "markdown",
   "metadata": {
    "id": "YhqBbskr-iag"
   },
   "source": [
    "# Load Data"
   ]
  },
  {
   "cell_type": "code",
   "execution_count": 2,
   "metadata": {
    "colab": {
     "base_uri": "https://localhost:8080/"
    },
    "id": "ILfTB4Ow3OAU",
    "outputId": "96cf0938-0070-41b5-d59d-d32f2fda7e6e"
   },
   "outputs": [],
   "source": [
    "(X_train , y_train), (X_test , y_test) = tf.keras.datasets.boston_housing.load_data(\n",
    "                                            path = 'boston_housing_npz',\n",
    "                                            test_split = 0.15,\n",
    "                                            seed = 42\n",
    "                                        )"
   ]
  },
  {
   "cell_type": "markdown",
   "metadata": {
    "id": "hHPrTJsyHKSO"
   },
   "source": [
    "# Exploratory Data Analysis"
   ]
  },
  {
   "cell_type": "markdown",
   "metadata": {
    "id": "iFxpm9uu-mcs"
   },
   "source": [
    "## Initial Observation"
   ]
  },
  {
   "cell_type": "code",
   "execution_count": 3,
   "metadata": {
    "colab": {
     "base_uri": "https://localhost:8080/"
    },
    "id": "lmgYsStF3vyi",
    "outputId": "d9d7c9ad-7e0a-4d0e-9c71-e20775ea9dc5"
   },
   "outputs": [
    {
     "data": {
      "text/plain": [
       "(((430, 13), numpy.ndarray),\n",
       " ((76, 13), numpy.ndarray),\n",
       " ((430,), numpy.ndarray),\n",
       " ((76,), numpy.ndarray))"
      ]
     },
     "execution_count": 3,
     "metadata": {},
     "output_type": "execute_result"
    }
   ],
   "source": [
    "# Checking the data shape and type\n",
    "(X_train.shape, type(X_train)), (X_test.shape, type(X_test)), (y_train.shape, type(y_train)), (y_test.shape, type(y_test)),"
   ]
  },
  {
   "cell_type": "code",
   "execution_count": 4,
   "metadata": {
    "colab": {
     "base_uri": "https://localhost:8080/",
     "height": 363
    },
    "id": "-QVH6Dcl37Dl",
    "outputId": "860b6d19-12bf-4db1-a0bb-f579a0e671f0"
   },
   "outputs": [
    {
     "data": {
      "text/html": [
       "<div>\n",
       "<style scoped>\n",
       "    .dataframe tbody tr th:only-of-type {\n",
       "        vertical-align: middle;\n",
       "    }\n",
       "\n",
       "    .dataframe tbody tr th {\n",
       "        vertical-align: top;\n",
       "    }\n",
       "\n",
       "    .dataframe thead th {\n",
       "        text-align: right;\n",
       "    }\n",
       "</style>\n",
       "<table border=\"1\" class=\"dataframe\">\n",
       "  <thead>\n",
       "    <tr style=\"text-align: right;\">\n",
       "      <th></th>\n",
       "      <th>0</th>\n",
       "      <th>1</th>\n",
       "      <th>2</th>\n",
       "      <th>3</th>\n",
       "      <th>4</th>\n",
       "      <th>5</th>\n",
       "      <th>6</th>\n",
       "      <th>7</th>\n",
       "      <th>8</th>\n",
       "      <th>9</th>\n",
       "      <th>10</th>\n",
       "      <th>11</th>\n",
       "      <th>12</th>\n",
       "    </tr>\n",
       "  </thead>\n",
       "  <tbody>\n",
       "    <tr>\n",
       "      <th>0</th>\n",
       "      <td>0.09178</td>\n",
       "      <td>0.0</td>\n",
       "      <td>4.05</td>\n",
       "      <td>0.0</td>\n",
       "      <td>0.510</td>\n",
       "      <td>6.416</td>\n",
       "      <td>84.1</td>\n",
       "      <td>2.6463</td>\n",
       "      <td>5.0</td>\n",
       "      <td>296.0</td>\n",
       "      <td>16.6</td>\n",
       "      <td>395.50</td>\n",
       "      <td>9.04</td>\n",
       "    </tr>\n",
       "    <tr>\n",
       "      <th>1</th>\n",
       "      <td>0.05644</td>\n",
       "      <td>40.0</td>\n",
       "      <td>6.41</td>\n",
       "      <td>1.0</td>\n",
       "      <td>0.447</td>\n",
       "      <td>6.758</td>\n",
       "      <td>32.9</td>\n",
       "      <td>4.0776</td>\n",
       "      <td>4.0</td>\n",
       "      <td>254.0</td>\n",
       "      <td>17.6</td>\n",
       "      <td>396.90</td>\n",
       "      <td>3.53</td>\n",
       "    </tr>\n",
       "    <tr>\n",
       "      <th>2</th>\n",
       "      <td>0.10574</td>\n",
       "      <td>0.0</td>\n",
       "      <td>27.74</td>\n",
       "      <td>0.0</td>\n",
       "      <td>0.609</td>\n",
       "      <td>5.983</td>\n",
       "      <td>98.8</td>\n",
       "      <td>1.8681</td>\n",
       "      <td>4.0</td>\n",
       "      <td>711.0</td>\n",
       "      <td>20.1</td>\n",
       "      <td>390.11</td>\n",
       "      <td>18.07</td>\n",
       "    </tr>\n",
       "    <tr>\n",
       "      <th>3</th>\n",
       "      <td>0.09164</td>\n",
       "      <td>0.0</td>\n",
       "      <td>10.81</td>\n",
       "      <td>0.0</td>\n",
       "      <td>0.413</td>\n",
       "      <td>6.065</td>\n",
       "      <td>7.8</td>\n",
       "      <td>5.2873</td>\n",
       "      <td>4.0</td>\n",
       "      <td>305.0</td>\n",
       "      <td>19.2</td>\n",
       "      <td>390.91</td>\n",
       "      <td>5.52</td>\n",
       "    </tr>\n",
       "    <tr>\n",
       "      <th>4</th>\n",
       "      <td>5.09017</td>\n",
       "      <td>0.0</td>\n",
       "      <td>18.10</td>\n",
       "      <td>0.0</td>\n",
       "      <td>0.713</td>\n",
       "      <td>6.297</td>\n",
       "      <td>91.8</td>\n",
       "      <td>2.3682</td>\n",
       "      <td>24.0</td>\n",
       "      <td>666.0</td>\n",
       "      <td>20.2</td>\n",
       "      <td>385.09</td>\n",
       "      <td>17.27</td>\n",
       "    </tr>\n",
       "    <tr>\n",
       "      <th>5</th>\n",
       "      <td>0.10153</td>\n",
       "      <td>0.0</td>\n",
       "      <td>12.83</td>\n",
       "      <td>0.0</td>\n",
       "      <td>0.437</td>\n",
       "      <td>6.279</td>\n",
       "      <td>74.5</td>\n",
       "      <td>4.0522</td>\n",
       "      <td>5.0</td>\n",
       "      <td>398.0</td>\n",
       "      <td>18.7</td>\n",
       "      <td>373.66</td>\n",
       "      <td>11.97</td>\n",
       "    </tr>\n",
       "    <tr>\n",
       "      <th>6</th>\n",
       "      <td>0.31827</td>\n",
       "      <td>0.0</td>\n",
       "      <td>9.90</td>\n",
       "      <td>0.0</td>\n",
       "      <td>0.544</td>\n",
       "      <td>5.914</td>\n",
       "      <td>83.2</td>\n",
       "      <td>3.9986</td>\n",
       "      <td>4.0</td>\n",
       "      <td>304.0</td>\n",
       "      <td>18.4</td>\n",
       "      <td>390.70</td>\n",
       "      <td>18.33</td>\n",
       "    </tr>\n",
       "    <tr>\n",
       "      <th>7</th>\n",
       "      <td>0.29090</td>\n",
       "      <td>0.0</td>\n",
       "      <td>21.89</td>\n",
       "      <td>0.0</td>\n",
       "      <td>0.624</td>\n",
       "      <td>6.174</td>\n",
       "      <td>93.6</td>\n",
       "      <td>1.6119</td>\n",
       "      <td>4.0</td>\n",
       "      <td>437.0</td>\n",
       "      <td>21.2</td>\n",
       "      <td>388.08</td>\n",
       "      <td>24.16</td>\n",
       "    </tr>\n",
       "    <tr>\n",
       "      <th>8</th>\n",
       "      <td>4.03841</td>\n",
       "      <td>0.0</td>\n",
       "      <td>18.10</td>\n",
       "      <td>0.0</td>\n",
       "      <td>0.532</td>\n",
       "      <td>6.229</td>\n",
       "      <td>90.7</td>\n",
       "      <td>3.0993</td>\n",
       "      <td>24.0</td>\n",
       "      <td>666.0</td>\n",
       "      <td>20.2</td>\n",
       "      <td>395.33</td>\n",
       "      <td>12.87</td>\n",
       "    </tr>\n",
       "    <tr>\n",
       "      <th>9</th>\n",
       "      <td>0.22438</td>\n",
       "      <td>0.0</td>\n",
       "      <td>9.69</td>\n",
       "      <td>0.0</td>\n",
       "      <td>0.585</td>\n",
       "      <td>6.027</td>\n",
       "      <td>79.7</td>\n",
       "      <td>2.4982</td>\n",
       "      <td>6.0</td>\n",
       "      <td>391.0</td>\n",
       "      <td>19.2</td>\n",
       "      <td>396.90</td>\n",
       "      <td>14.33</td>\n",
       "    </tr>\n",
       "  </tbody>\n",
       "</table>\n",
       "</div>"
      ],
      "text/plain": [
       "        0     1      2    3      4      5     6       7     8      9     10   \n",
       "0  0.09178   0.0   4.05  0.0  0.510  6.416  84.1  2.6463   5.0  296.0  16.6  \\\n",
       "1  0.05644  40.0   6.41  1.0  0.447  6.758  32.9  4.0776   4.0  254.0  17.6   \n",
       "2  0.10574   0.0  27.74  0.0  0.609  5.983  98.8  1.8681   4.0  711.0  20.1   \n",
       "3  0.09164   0.0  10.81  0.0  0.413  6.065   7.8  5.2873   4.0  305.0  19.2   \n",
       "4  5.09017   0.0  18.10  0.0  0.713  6.297  91.8  2.3682  24.0  666.0  20.2   \n",
       "5  0.10153   0.0  12.83  0.0  0.437  6.279  74.5  4.0522   5.0  398.0  18.7   \n",
       "6  0.31827   0.0   9.90  0.0  0.544  5.914  83.2  3.9986   4.0  304.0  18.4   \n",
       "7  0.29090   0.0  21.89  0.0  0.624  6.174  93.6  1.6119   4.0  437.0  21.2   \n",
       "8  4.03841   0.0  18.10  0.0  0.532  6.229  90.7  3.0993  24.0  666.0  20.2   \n",
       "9  0.22438   0.0   9.69  0.0  0.585  6.027  79.7  2.4982   6.0  391.0  19.2   \n",
       "\n",
       "       11     12  \n",
       "0  395.50   9.04  \n",
       "1  396.90   3.53  \n",
       "2  390.11  18.07  \n",
       "3  390.91   5.52  \n",
       "4  385.09  17.27  \n",
       "5  373.66  11.97  \n",
       "6  390.70  18.33  \n",
       "7  388.08  24.16  \n",
       "8  395.33  12.87  \n",
       "9  396.90  14.33  "
      ]
     },
     "execution_count": 4,
     "metadata": {},
     "output_type": "execute_result"
    }
   ],
   "source": [
    "# Converting Data to DataFrame \n",
    "X_train_df = pd.DataFrame(X_train)\n",
    "y_train_df = pd.DataFrame(y_train)\n",
    "\n",
    "# Preview the training data\n",
    "X_train_df.head(10)"
   ]
  },
  {
   "cell_type": "code",
   "execution_count": 5,
   "metadata": {
    "colab": {
     "base_uri": "https://localhost:8080/"
    },
    "id": "NtocpgHS6zUg",
    "outputId": "874e6070-2117-49b5-968e-44f980f9219e"
   },
   "outputs": [
    {
     "name": "stdout",
     "output_type": "stream",
     "text": [
      "<class 'pandas.core.frame.DataFrame'>\n",
      "RangeIndex: 430 entries, 0 to 429\n",
      "Data columns (total 13 columns):\n",
      " #   Column  Non-Null Count  Dtype  \n",
      "---  ------  --------------  -----  \n",
      " 0   0       430 non-null    float64\n",
      " 1   1       430 non-null    float64\n",
      " 2   2       430 non-null    float64\n",
      " 3   3       430 non-null    float64\n",
      " 4   4       430 non-null    float64\n",
      " 5   5       430 non-null    float64\n",
      " 6   6       430 non-null    float64\n",
      " 7   7       430 non-null    float64\n",
      " 8   8       430 non-null    float64\n",
      " 9   9       430 non-null    float64\n",
      " 10  10      430 non-null    float64\n",
      " 11  11      430 non-null    float64\n",
      " 12  12      430 non-null    float64\n",
      "dtypes: float64(13)\n",
      "memory usage: 43.8 KB\n",
      "________________________________________\n",
      "<class 'pandas.core.frame.DataFrame'>\n",
      "RangeIndex: 430 entries, 0 to 429\n",
      "Data columns (total 1 columns):\n",
      " #   Column  Non-Null Count  Dtype  \n",
      "---  ------  --------------  -----  \n",
      " 0   0       430 non-null    float64\n",
      "dtypes: float64(1)\n",
      "memory usage: 3.5 KB\n"
     ]
    }
   ],
   "source": [
    "# View summary of datasets\n",
    "X_train_df.info()\n",
    "print('_'*40)\n",
    "y_train_df.info()"
   ]
  },
  {
   "cell_type": "code",
   "execution_count": 6,
   "metadata": {
    "colab": {
     "base_uri": "https://localhost:8080/",
     "height": 364
    },
    "id": "CeeFStx68vMP",
    "outputId": "887bb519-8460-4c38-f52a-e7c65e66a221"
   },
   "outputs": [
    {
     "data": {
      "text/html": [
       "<div>\n",
       "<style scoped>\n",
       "    .dataframe tbody tr th:only-of-type {\n",
       "        vertical-align: middle;\n",
       "    }\n",
       "\n",
       "    .dataframe tbody tr th {\n",
       "        vertical-align: top;\n",
       "    }\n",
       "\n",
       "    .dataframe thead th {\n",
       "        text-align: right;\n",
       "    }\n",
       "</style>\n",
       "<table border=\"1\" class=\"dataframe\">\n",
       "  <thead>\n",
       "    <tr style=\"text-align: right;\">\n",
       "      <th></th>\n",
       "      <th>0</th>\n",
       "      <th>1</th>\n",
       "      <th>2</th>\n",
       "      <th>3</th>\n",
       "      <th>4</th>\n",
       "      <th>5</th>\n",
       "      <th>6</th>\n",
       "      <th>7</th>\n",
       "      <th>8</th>\n",
       "      <th>9</th>\n",
       "      <th>10</th>\n",
       "      <th>11</th>\n",
       "      <th>12</th>\n",
       "    </tr>\n",
       "  </thead>\n",
       "  <tbody>\n",
       "    <tr>\n",
       "      <th>count</th>\n",
       "      <td>430.000000</td>\n",
       "      <td>430.000000</td>\n",
       "      <td>430.000000</td>\n",
       "      <td>430.000000</td>\n",
       "      <td>430.000000</td>\n",
       "      <td>430.000000</td>\n",
       "      <td>430.000000</td>\n",
       "      <td>430.000000</td>\n",
       "      <td>430.000000</td>\n",
       "      <td>430.000000</td>\n",
       "      <td>430.000000</td>\n",
       "      <td>430.000000</td>\n",
       "      <td>430.000000</td>\n",
       "    </tr>\n",
       "    <tr>\n",
       "      <th>mean</th>\n",
       "      <td>3.699248</td>\n",
       "      <td>11.588372</td>\n",
       "      <td>11.195209</td>\n",
       "      <td>0.069767</td>\n",
       "      <td>0.553655</td>\n",
       "      <td>6.286177</td>\n",
       "      <td>68.624651</td>\n",
       "      <td>3.810942</td>\n",
       "      <td>9.604651</td>\n",
       "      <td>408.627907</td>\n",
       "      <td>18.460465</td>\n",
       "      <td>357.523140</td>\n",
       "      <td>12.735442</td>\n",
       "    </tr>\n",
       "    <tr>\n",
       "      <th>std</th>\n",
       "      <td>8.914104</td>\n",
       "      <td>24.025489</td>\n",
       "      <td>6.908886</td>\n",
       "      <td>0.255051</td>\n",
       "      <td>0.116063</td>\n",
       "      <td>0.712024</td>\n",
       "      <td>28.262619</td>\n",
       "      <td>2.140100</td>\n",
       "      <td>8.722982</td>\n",
       "      <td>169.765535</td>\n",
       "      <td>2.155823</td>\n",
       "      <td>90.888664</td>\n",
       "      <td>7.234809</td>\n",
       "    </tr>\n",
       "    <tr>\n",
       "      <th>min</th>\n",
       "      <td>0.006320</td>\n",
       "      <td>0.000000</td>\n",
       "      <td>0.460000</td>\n",
       "      <td>0.000000</td>\n",
       "      <td>0.385000</td>\n",
       "      <td>3.561000</td>\n",
       "      <td>2.900000</td>\n",
       "      <td>1.137000</td>\n",
       "      <td>1.000000</td>\n",
       "      <td>187.000000</td>\n",
       "      <td>12.600000</td>\n",
       "      <td>0.320000</td>\n",
       "      <td>1.730000</td>\n",
       "    </tr>\n",
       "    <tr>\n",
       "      <th>25%</th>\n",
       "      <td>0.082102</td>\n",
       "      <td>0.000000</td>\n",
       "      <td>5.190000</td>\n",
       "      <td>0.000000</td>\n",
       "      <td>0.448250</td>\n",
       "      <td>5.881000</td>\n",
       "      <td>43.875000</td>\n",
       "      <td>2.091150</td>\n",
       "      <td>4.000000</td>\n",
       "      <td>279.500000</td>\n",
       "      <td>17.400000</td>\n",
       "      <td>375.912500</td>\n",
       "      <td>6.950000</td>\n",
       "    </tr>\n",
       "    <tr>\n",
       "      <th>50%</th>\n",
       "      <td>0.250895</td>\n",
       "      <td>0.000000</td>\n",
       "      <td>9.690000</td>\n",
       "      <td>0.000000</td>\n",
       "      <td>0.538000</td>\n",
       "      <td>6.211500</td>\n",
       "      <td>76.800000</td>\n",
       "      <td>3.190950</td>\n",
       "      <td>5.000000</td>\n",
       "      <td>330.000000</td>\n",
       "      <td>19.100000</td>\n",
       "      <td>391.770000</td>\n",
       "      <td>11.465000</td>\n",
       "    </tr>\n",
       "    <tr>\n",
       "      <th>75%</th>\n",
       "      <td>3.677083</td>\n",
       "      <td>12.500000</td>\n",
       "      <td>18.100000</td>\n",
       "      <td>0.000000</td>\n",
       "      <td>0.624000</td>\n",
       "      <td>6.628750</td>\n",
       "      <td>94.300000</td>\n",
       "      <td>5.226975</td>\n",
       "      <td>24.000000</td>\n",
       "      <td>666.000000</td>\n",
       "      <td>20.200000</td>\n",
       "      <td>396.192500</td>\n",
       "      <td>17.117500</td>\n",
       "    </tr>\n",
       "    <tr>\n",
       "      <th>max</th>\n",
       "      <td>88.976200</td>\n",
       "      <td>100.000000</td>\n",
       "      <td>27.740000</td>\n",
       "      <td>1.000000</td>\n",
       "      <td>0.871000</td>\n",
       "      <td>8.780000</td>\n",
       "      <td>100.000000</td>\n",
       "      <td>12.126500</td>\n",
       "      <td>24.000000</td>\n",
       "      <td>711.000000</td>\n",
       "      <td>22.000000</td>\n",
       "      <td>396.900000</td>\n",
       "      <td>37.970000</td>\n",
       "    </tr>\n",
       "  </tbody>\n",
       "</table>\n",
       "</div>"
      ],
      "text/plain": [
       "               0           1           2           3           4           5    \n",
       "count  430.000000  430.000000  430.000000  430.000000  430.000000  430.000000  \\\n",
       "mean     3.699248   11.588372   11.195209    0.069767    0.553655    6.286177   \n",
       "std      8.914104   24.025489    6.908886    0.255051    0.116063    0.712024   \n",
       "min      0.006320    0.000000    0.460000    0.000000    0.385000    3.561000   \n",
       "25%      0.082102    0.000000    5.190000    0.000000    0.448250    5.881000   \n",
       "50%      0.250895    0.000000    9.690000    0.000000    0.538000    6.211500   \n",
       "75%      3.677083   12.500000   18.100000    0.000000    0.624000    6.628750   \n",
       "max     88.976200  100.000000   27.740000    1.000000    0.871000    8.780000   \n",
       "\n",
       "               6           7           8           9           10          11   \n",
       "count  430.000000  430.000000  430.000000  430.000000  430.000000  430.000000  \\\n",
       "mean    68.624651    3.810942    9.604651  408.627907   18.460465  357.523140   \n",
       "std     28.262619    2.140100    8.722982  169.765535    2.155823   90.888664   \n",
       "min      2.900000    1.137000    1.000000  187.000000   12.600000    0.320000   \n",
       "25%     43.875000    2.091150    4.000000  279.500000   17.400000  375.912500   \n",
       "50%     76.800000    3.190950    5.000000  330.000000   19.100000  391.770000   \n",
       "75%     94.300000    5.226975   24.000000  666.000000   20.200000  396.192500   \n",
       "max    100.000000   12.126500   24.000000  711.000000   22.000000  396.900000   \n",
       "\n",
       "               12  \n",
       "count  430.000000  \n",
       "mean    12.735442  \n",
       "std      7.234809  \n",
       "min      1.730000  \n",
       "25%      6.950000  \n",
       "50%     11.465000  \n",
       "75%     17.117500  \n",
       "max     37.970000  "
      ]
     },
     "execution_count": 6,
     "metadata": {},
     "output_type": "execute_result"
    }
   ],
   "source": [
    "# distribution of numerical feature values across the samples\n",
    "X_train_df.describe()"
   ]
  },
  {
   "cell_type": "markdown",
   "metadata": {
    "id": "0S3DE2_c_8j2"
   },
   "source": [
    "## Preprocessing"
   ]
  },
  {
   "cell_type": "code",
   "execution_count": 7,
   "metadata": {
    "colab": {
     "base_uri": "https://localhost:8080/",
     "height": 344
    },
    "id": "JEXlXchREDC6",
    "outputId": "891b630d-c9f4-4c11-9f09-dbbf883324d6"
   },
   "outputs": [
    {
     "data": {
      "text/html": [
       "<div>\n",
       "<style scoped>\n",
       "    .dataframe tbody tr th:only-of-type {\n",
       "        vertical-align: middle;\n",
       "    }\n",
       "\n",
       "    .dataframe tbody tr th {\n",
       "        vertical-align: top;\n",
       "    }\n",
       "\n",
       "    .dataframe thead th {\n",
       "        text-align: right;\n",
       "    }\n",
       "</style>\n",
       "<table border=\"1\" class=\"dataframe\">\n",
       "  <thead>\n",
       "    <tr style=\"text-align: right;\">\n",
       "      <th></th>\n",
       "      <th>0</th>\n",
       "      <th>1</th>\n",
       "      <th>2</th>\n",
       "      <th>3</th>\n",
       "      <th>4</th>\n",
       "      <th>5</th>\n",
       "      <th>6</th>\n",
       "      <th>7</th>\n",
       "      <th>8</th>\n",
       "      <th>9</th>\n",
       "      <th>10</th>\n",
       "      <th>11</th>\n",
       "    </tr>\n",
       "  </thead>\n",
       "  <tbody>\n",
       "    <tr>\n",
       "      <th>count</th>\n",
       "      <td>430.000000</td>\n",
       "      <td>430.000000</td>\n",
       "      <td>430.000000</td>\n",
       "      <td>430.000000</td>\n",
       "      <td>430.000000</td>\n",
       "      <td>430.000000</td>\n",
       "      <td>430.000000</td>\n",
       "      <td>430.000000</td>\n",
       "      <td>430.000000</td>\n",
       "      <td>430.000000</td>\n",
       "      <td>430.000000</td>\n",
       "      <td>430.000000</td>\n",
       "    </tr>\n",
       "    <tr>\n",
       "      <th>mean</th>\n",
       "      <td>0.041508</td>\n",
       "      <td>0.115884</td>\n",
       "      <td>0.393519</td>\n",
       "      <td>0.347027</td>\n",
       "      <td>0.522165</td>\n",
       "      <td>0.676876</td>\n",
       "      <td>0.243318</td>\n",
       "      <td>0.374115</td>\n",
       "      <td>0.422954</td>\n",
       "      <td>0.623454</td>\n",
       "      <td>0.900709</td>\n",
       "      <td>0.303682</td>\n",
       "    </tr>\n",
       "    <tr>\n",
       "      <th>std</th>\n",
       "      <td>0.100192</td>\n",
       "      <td>0.240255</td>\n",
       "      <td>0.253258</td>\n",
       "      <td>0.238812</td>\n",
       "      <td>0.136429</td>\n",
       "      <td>0.291067</td>\n",
       "      <td>0.194740</td>\n",
       "      <td>0.379260</td>\n",
       "      <td>0.323980</td>\n",
       "      <td>0.229343</td>\n",
       "      <td>0.229181</td>\n",
       "      <td>0.199636</td>\n",
       "    </tr>\n",
       "    <tr>\n",
       "      <th>min</th>\n",
       "      <td>0.000000</td>\n",
       "      <td>0.000000</td>\n",
       "      <td>0.000000</td>\n",
       "      <td>0.000000</td>\n",
       "      <td>0.000000</td>\n",
       "      <td>0.000000</td>\n",
       "      <td>0.000000</td>\n",
       "      <td>0.000000</td>\n",
       "      <td>0.000000</td>\n",
       "      <td>0.000000</td>\n",
       "      <td>0.000000</td>\n",
       "      <td>0.000000</td>\n",
       "    </tr>\n",
       "    <tr>\n",
       "      <th>25%</th>\n",
       "      <td>0.000852</td>\n",
       "      <td>0.000000</td>\n",
       "      <td>0.173387</td>\n",
       "      <td>0.130144</td>\n",
       "      <td>0.444530</td>\n",
       "      <td>0.421988</td>\n",
       "      <td>0.086824</td>\n",
       "      <td>0.130435</td>\n",
       "      <td>0.176527</td>\n",
       "      <td>0.510638</td>\n",
       "      <td>0.947079</td>\n",
       "      <td>0.144040</td>\n",
       "    </tr>\n",
       "    <tr>\n",
       "      <th>50%</th>\n",
       "      <td>0.002749</td>\n",
       "      <td>0.000000</td>\n",
       "      <td>0.338343</td>\n",
       "      <td>0.314815</td>\n",
       "      <td>0.507856</td>\n",
       "      <td>0.761071</td>\n",
       "      <td>0.186901</td>\n",
       "      <td>0.173913</td>\n",
       "      <td>0.272901</td>\n",
       "      <td>0.691489</td>\n",
       "      <td>0.987064</td>\n",
       "      <td>0.268626</td>\n",
       "    </tr>\n",
       "    <tr>\n",
       "      <th>75%</th>\n",
       "      <td>0.041258</td>\n",
       "      <td>0.125000</td>\n",
       "      <td>0.646628</td>\n",
       "      <td>0.491770</td>\n",
       "      <td>0.587804</td>\n",
       "      <td>0.941298</td>\n",
       "      <td>0.372171</td>\n",
       "      <td>1.000000</td>\n",
       "      <td>0.914122</td>\n",
       "      <td>0.808511</td>\n",
       "      <td>0.998216</td>\n",
       "      <td>0.424600</td>\n",
       "    </tr>\n",
       "    <tr>\n",
       "      <th>max</th>\n",
       "      <td>1.000000</td>\n",
       "      <td>1.000000</td>\n",
       "      <td>1.000000</td>\n",
       "      <td>1.000000</td>\n",
       "      <td>1.000000</td>\n",
       "      <td>1.000000</td>\n",
       "      <td>1.000000</td>\n",
       "      <td>1.000000</td>\n",
       "      <td>1.000000</td>\n",
       "      <td>1.000000</td>\n",
       "      <td>1.000000</td>\n",
       "      <td>1.000000</td>\n",
       "    </tr>\n",
       "  </tbody>\n",
       "</table>\n",
       "</div>"
      ],
      "text/plain": [
       "               0           1           2           3           4           5    \n",
       "count  430.000000  430.000000  430.000000  430.000000  430.000000  430.000000  \\\n",
       "mean     0.041508    0.115884    0.393519    0.347027    0.522165    0.676876   \n",
       "std      0.100192    0.240255    0.253258    0.238812    0.136429    0.291067   \n",
       "min      0.000000    0.000000    0.000000    0.000000    0.000000    0.000000   \n",
       "25%      0.000852    0.000000    0.173387    0.130144    0.444530    0.421988   \n",
       "50%      0.002749    0.000000    0.338343    0.314815    0.507856    0.761071   \n",
       "75%      0.041258    0.125000    0.646628    0.491770    0.587804    0.941298   \n",
       "max      1.000000    1.000000    1.000000    1.000000    1.000000    1.000000   \n",
       "\n",
       "               6           7           8           9           10          11  \n",
       "count  430.000000  430.000000  430.000000  430.000000  430.000000  430.000000  \n",
       "mean     0.243318    0.374115    0.422954    0.623454    0.900709    0.303682  \n",
       "std      0.194740    0.379260    0.323980    0.229343    0.229181    0.199636  \n",
       "min      0.000000    0.000000    0.000000    0.000000    0.000000    0.000000  \n",
       "25%      0.086824    0.130435    0.176527    0.510638    0.947079    0.144040  \n",
       "50%      0.186901    0.173913    0.272901    0.691489    0.987064    0.268626  \n",
       "75%      0.372171    1.000000    0.914122    0.808511    0.998216    0.424600  \n",
       "max      1.000000    1.000000    1.000000    1.000000    1.000000    1.000000  "
      ]
     },
     "execution_count": 7,
     "metadata": {},
     "output_type": "execute_result"
    }
   ],
   "source": [
    "# Create column transformer\n",
    "ct = make_column_transformer(\n",
    "    (MinMaxScaler(), [0, 1, 2, 4, 5, 6, 7, 8, 9, 10, 11, 12])\n",
    ")\n",
    "\n",
    "# Normalization and data type change\n",
    "X_train = ct.fit_transform(X_train).astype('float32')\n",
    "X_test = ct.transform(X_test).astype('float32')\n",
    "y_train = y_train.astype('float32')\n",
    "y_test = y_test.astype('float32')\n",
    "\n",
    "# Distribution of X_train feature values after normalization\n",
    "pd.DataFrame(X_train).describe()"
   ]
  },
  {
   "cell_type": "markdown",
   "metadata": {
    "id": "EwbgGLK9FyRG"
   },
   "source": [
    "# Model, Predict, Evaluation"
   ]
  },
  {
   "cell_type": "code",
   "execution_count": 8,
   "metadata": {
    "colab": {
     "base_uri": "https://localhost:8080/"
    },
    "id": "0yG6aN-_RDxF",
    "outputId": "dcf22498-58a2-405e-f110-e0def71cd652"
   },
   "outputs": [
    {
     "data": {
      "text/plain": [
       "((387, 12), (43, 12), (387,), (43,))"
      ]
     },
     "execution_count": 8,
     "metadata": {},
     "output_type": "execute_result"
    }
   ],
   "source": [
    "# Reserve data for validation\n",
    "X_train, X_val, y_train, y_val = train_test_split(X_train, y_train, test_size=0.1, random_state=42)\n",
    "X_train.shape, X_val.shape, y_train.shape, y_val.shape"
   ]
  },
  {
   "cell_type": "markdown",
   "metadata": {
    "id": "rXXjkEnchKQ0"
   },
   "source": [
    "## Creating the Model and Optimizing the Learning Rate"
   ]
  },
  {
   "cell_type": "markdown",
   "metadata": {
    "id": "wt3qQohTiNK8"
   },
   "source": [
    "learning rate = 0.01,\n",
    "batch_size = 32,\n",
    "dense_layers = 2,\n",
    "hidden_units for Dense_1 layer= 10,\n",
    "hidden_units for Dense_2 layer = 100"
   ]
  },
  {
   "cell_type": "code",
   "execution_count": 9,
   "metadata": {
    "colab": {
     "base_uri": "https://localhost:8080/"
    },
    "id": "rxuLioVJHXep",
    "outputId": "db41144b-fcda-4412-d658-e8c7b4b48129"
   },
   "outputs": [
    {
     "name": "stdout",
     "output_type": "stream",
     "text": [
      "WARNING:tensorflow:From C:\\Users\\Diksha\\AppData\\Roaming\\Python\\Python311\\site-packages\\keras\\src\\backend.py:873: The name tf.get_default_graph is deprecated. Please use tf.compat.v1.get_default_graph instead.\n",
      "\n",
      "Epoch 1/50\n",
      "WARNING:tensorflow:From C:\\Users\\Diksha\\AppData\\Roaming\\Python\\Python311\\site-packages\\keras\\src\\utils\\tf_utils.py:492: The name tf.ragged.RaggedTensorValue is deprecated. Please use tf.compat.v1.ragged.RaggedTensorValue instead.\n",
      "\n",
      "WARNING:tensorflow:From C:\\Users\\Diksha\\AppData\\Roaming\\Python\\Python311\\site-packages\\keras\\src\\engine\\base_layer_utils.py:384: The name tf.executing_eagerly_outside_functions is deprecated. Please use tf.compat.v1.executing_eagerly_outside_functions instead.\n",
      "\n",
      "13/13 [==============================] - 2s 34ms/step - loss: 313.1368 - mse: 313.1368 - val_loss: 102.4530 - val_mse: 102.4530\n",
      "Epoch 2/50\n",
      "13/13 [==============================] - 0s 6ms/step - loss: 92.2169 - mse: 92.2169 - val_loss: 62.2763 - val_mse: 62.2763\n",
      "Epoch 3/50\n",
      "13/13 [==============================] - 0s 5ms/step - loss: 59.6481 - mse: 59.6481 - val_loss: 60.0314 - val_mse: 60.0314\n",
      "Epoch 4/50\n",
      "13/13 [==============================] - 0s 8ms/step - loss: 49.9589 - mse: 49.9589 - val_loss: 81.8539 - val_mse: 81.8539\n",
      "Epoch 5/50\n",
      "13/13 [==============================] - 0s 5ms/step - loss: 42.0597 - mse: 42.0597 - val_loss: 152.0288 - val_mse: 152.0288\n",
      "Epoch 6/50\n",
      "13/13 [==============================] - 0s 7ms/step - loss: 43.2337 - mse: 43.2337 - val_loss: 24.7889 - val_mse: 24.7889\n",
      "Epoch 7/50\n",
      "13/13 [==============================] - 0s 5ms/step - loss: 35.1721 - mse: 35.1721 - val_loss: 22.0707 - val_mse: 22.0707\n",
      "Epoch 8/50\n",
      "13/13 [==============================] - 0s 6ms/step - loss: 29.5742 - mse: 29.5742 - val_loss: 69.6091 - val_mse: 69.6091\n",
      "Epoch 9/50\n",
      "13/13 [==============================] - 0s 5ms/step - loss: 28.8384 - mse: 28.8384 - val_loss: 18.8182 - val_mse: 18.8182\n",
      "Epoch 10/50\n",
      "13/13 [==============================] - 0s 5ms/step - loss: 26.9359 - mse: 26.9359 - val_loss: 17.1656 - val_mse: 17.1656\n",
      "Epoch 11/50\n",
      "13/13 [==============================] - 0s 5ms/step - loss: 25.7019 - mse: 25.7019 - val_loss: 20.8658 - val_mse: 20.8658\n",
      "Epoch 12/50\n",
      "13/13 [==============================] - 0s 5ms/step - loss: 28.1017 - mse: 28.1017 - val_loss: 22.5576 - val_mse: 22.5576\n",
      "Epoch 13/50\n",
      "13/13 [==============================] - 0s 4ms/step - loss: 26.0613 - mse: 26.0613 - val_loss: 14.1112 - val_mse: 14.1112\n",
      "Epoch 14/50\n",
      "13/13 [==============================] - 0s 5ms/step - loss: 21.8890 - mse: 21.8890 - val_loss: 18.3550 - val_mse: 18.3550\n",
      "Epoch 15/50\n",
      "13/13 [==============================] - 0s 6ms/step - loss: 23.1820 - mse: 23.1820 - val_loss: 21.1187 - val_mse: 21.1187\n",
      "Epoch 16/50\n",
      "13/13 [==============================] - 0s 5ms/step - loss: 24.2745 - mse: 24.2745 - val_loss: 21.9090 - val_mse: 21.9090\n",
      "Epoch 17/50\n",
      "13/13 [==============================] - 0s 6ms/step - loss: 22.4939 - mse: 22.4939 - val_loss: 26.9402 - val_mse: 26.9402\n",
      "Epoch 18/50\n",
      "13/13 [==============================] - 0s 5ms/step - loss: 23.2572 - mse: 23.2572 - val_loss: 26.2467 - val_mse: 26.2467\n",
      "Epoch 19/50\n",
      "13/13 [==============================] - 0s 5ms/step - loss: 20.4795 - mse: 20.4795 - val_loss: 38.1892 - val_mse: 38.1892\n",
      "Epoch 20/50\n",
      "13/13 [==============================] - 0s 6ms/step - loss: 24.2562 - mse: 24.2562 - val_loss: 24.1440 - val_mse: 24.1440\n",
      "Epoch 21/50\n",
      "13/13 [==============================] - 0s 5ms/step - loss: 21.0061 - mse: 21.0061 - val_loss: 32.0133 - val_mse: 32.0133\n",
      "Epoch 22/50\n",
      "13/13 [==============================] - 0s 6ms/step - loss: 21.9156 - mse: 21.9156 - val_loss: 18.7058 - val_mse: 18.7058\n",
      "Epoch 23/50\n",
      "13/13 [==============================] - 0s 6ms/step - loss: 18.8214 - mse: 18.8214 - val_loss: 15.3764 - val_mse: 15.3764\n",
      "Epoch 24/50\n",
      "13/13 [==============================] - 0s 4ms/step - loss: 19.8563 - mse: 19.8563 - val_loss: 40.1184 - val_mse: 40.1184\n",
      "Epoch 25/50\n",
      "13/13 [==============================] - 0s 5ms/step - loss: 22.6503 - mse: 22.6503 - val_loss: 12.2079 - val_mse: 12.2079\n",
      "Epoch 26/50\n",
      "13/13 [==============================] - 0s 5ms/step - loss: 18.4328 - mse: 18.4328 - val_loss: 13.5410 - val_mse: 13.5410\n",
      "Epoch 27/50\n",
      "13/13 [==============================] - 0s 4ms/step - loss: 18.7405 - mse: 18.7405 - val_loss: 16.2959 - val_mse: 16.2959\n",
      "Epoch 28/50\n",
      "13/13 [==============================] - 0s 5ms/step - loss: 19.0328 - mse: 19.0328 - val_loss: 21.3501 - val_mse: 21.3501\n",
      "Epoch 29/50\n",
      "13/13 [==============================] - 0s 5ms/step - loss: 17.9565 - mse: 17.9565 - val_loss: 18.1156 - val_mse: 18.1156\n",
      "Epoch 30/50\n",
      "13/13 [==============================] - 0s 5ms/step - loss: 18.0589 - mse: 18.0589 - val_loss: 11.8036 - val_mse: 11.8036\n",
      "Epoch 31/50\n",
      "13/13 [==============================] - 0s 5ms/step - loss: 17.7585 - mse: 17.7585 - val_loss: 16.1944 - val_mse: 16.1944\n",
      "Epoch 32/50\n",
      "13/13 [==============================] - 0s 5ms/step - loss: 18.4639 - mse: 18.4639 - val_loss: 16.8999 - val_mse: 16.8999\n",
      "Epoch 33/50\n",
      "13/13 [==============================] - 0s 4ms/step - loss: 16.1226 - mse: 16.1226 - val_loss: 16.8202 - val_mse: 16.8202\n",
      "Epoch 34/50\n",
      "13/13 [==============================] - 0s 4ms/step - loss: 17.9872 - mse: 17.9872 - val_loss: 35.6062 - val_mse: 35.6062\n",
      "Epoch 35/50\n",
      "13/13 [==============================] - 0s 5ms/step - loss: 17.6733 - mse: 17.6733 - val_loss: 17.2994 - val_mse: 17.2994\n",
      "Epoch 36/50\n",
      "13/13 [==============================] - 0s 5ms/step - loss: 16.9484 - mse: 16.9484 - val_loss: 12.7139 - val_mse: 12.7139\n",
      "Epoch 37/50\n",
      "13/13 [==============================] - 0s 4ms/step - loss: 16.8979 - mse: 16.8979 - val_loss: 13.1699 - val_mse: 13.1699\n",
      "Epoch 38/50\n",
      "13/13 [==============================] - 0s 5ms/step - loss: 18.0096 - mse: 18.0096 - val_loss: 19.5400 - val_mse: 19.5400\n",
      "Epoch 39/50\n",
      "13/13 [==============================] - 0s 5ms/step - loss: 19.5730 - mse: 19.5730 - val_loss: 15.6328 - val_mse: 15.6328\n",
      "Epoch 40/50\n",
      "13/13 [==============================] - 0s 5ms/step - loss: 15.9546 - mse: 15.9546 - val_loss: 17.0208 - val_mse: 17.0208\n",
      "Epoch 41/50\n",
      "13/13 [==============================] - 0s 5ms/step - loss: 18.8457 - mse: 18.8457 - val_loss: 10.7948 - val_mse: 10.7948\n",
      "Epoch 42/50\n",
      "13/13 [==============================] - 0s 5ms/step - loss: 18.5951 - mse: 18.5951 - val_loss: 11.6161 - val_mse: 11.6161\n",
      "Epoch 43/50\n",
      "13/13 [==============================] - 0s 5ms/step - loss: 15.4315 - mse: 15.4315 - val_loss: 10.8805 - val_mse: 10.8805\n",
      "Epoch 44/50\n",
      "13/13 [==============================] - 0s 4ms/step - loss: 17.2100 - mse: 17.2100 - val_loss: 12.9521 - val_mse: 12.9521\n",
      "Epoch 45/50\n",
      "13/13 [==============================] - 0s 5ms/step - loss: 18.0767 - mse: 18.0767 - val_loss: 12.4964 - val_mse: 12.4964\n",
      "Epoch 46/50\n",
      "13/13 [==============================] - 0s 6ms/step - loss: 16.3107 - mse: 16.3107 - val_loss: 10.8722 - val_mse: 10.8722\n",
      "Epoch 47/50\n",
      "13/13 [==============================] - 0s 5ms/step - loss: 15.4573 - mse: 15.4573 - val_loss: 15.5102 - val_mse: 15.5102\n",
      "Epoch 48/50\n",
      "13/13 [==============================] - 0s 8ms/step - loss: 16.0006 - mse: 16.0006 - val_loss: 15.4115 - val_mse: 15.4115\n",
      "Epoch 49/50\n",
      "13/13 [==============================] - 0s 10ms/step - loss: 17.0891 - mse: 17.0891 - val_loss: 34.7485 - val_mse: 34.7485\n",
      "Epoch 50/50\n",
      "13/13 [==============================] - 0s 10ms/step - loss: 18.1932 - mse: 18.1932 - val_loss: 11.2436 - val_mse: 11.2436\n"
     ]
    }
   ],
   "source": [
    "# Set random seed\n",
    "tf.random.set_seed(42)\n",
    "\n",
    "# Building the model\n",
    "model = tf.keras.Sequential([\n",
    "  tf.keras.layers.Dense(units=10, activation='relu', input_shape=(X_train.shape[1],), name='Dense_1'),\n",
    "  tf.keras.layers.Dense(units=100, activation='relu', name='Dense_2'),\n",
    "  tf.keras.layers.Dense(units=1, name='Prediction')\n",
    "])\n",
    "\n",
    "# Compiling the model\n",
    "model.compile(\n",
    "    loss = tf.keras.losses.mean_squared_error,\n",
    "    optimizer = tf.keras.optimizers.RMSprop(learning_rate=0.01),\n",
    "    metrics = ['mse']\n",
    ")\n",
    "\n",
    "\n",
    "# model.compile(optimizer='adam', loss='mse', metrics=['mae'])\n",
    "# model.summary()\n",
    "\n",
    "# Training the model\n",
    "history = model.fit(\n",
    "    X_train,\n",
    "    y_train,\n",
    "    batch_size=32,\n",
    "    epochs=50,\n",
    "    validation_data=(X_val, y_val)\n",
    ")"
   ]
  },
  {
   "cell_type": "markdown",
   "metadata": {
    "id": "VasQEdJRe9NK"
   },
   "source": [
    "## Model Evaluation"
   ]
  },
  {
   "cell_type": "code",
   "execution_count": 10,
   "metadata": {
    "colab": {
     "base_uri": "https://localhost:8080/"
    },
    "id": "1t-7HcflKgGV",
    "outputId": "71e123d7-73d3-4d6e-97d9-3a6aa6774076"
   },
   "outputs": [
    {
     "data": {
      "text/plain": [
       "(22.765375, 20.558142)"
      ]
     },
     "execution_count": 10,
     "metadata": {},
     "output_type": "execute_result"
    }
   ],
   "source": [
    "# Preview the mean value of training and validation data\n",
    "y_train.mean(), y_val.mean()"
   ]
  },
  {
   "cell_type": "code",
   "execution_count": 11,
   "metadata": {
    "colab": {
     "base_uri": "https://localhost:8080/"
    },
    "id": "4F5mom8FfACb",
    "outputId": "1577826d-50d7-47a8-ab8c-d423d52be46e"
   },
   "outputs": [
    {
     "name": "stdout",
     "output_type": "stream",
     "text": [
      "Evaluation on Test data \n",
      "\n",
      "3/3 [==============================] - 0s 2ms/step - loss: 18.0476 - mse: 18.0476\n",
      "\n",
      "Model loss on test set: 18.047630310058594\n",
      "Model mean squared error on test set: 18.05\n"
     ]
    }
   ],
   "source": [
    "# Evaluate the model on the test data\n",
    "print(\"Evaluation on Test data \\n\")\n",
    "loss, mse = model.evaluate(X_test, y_test, batch_size=32)\n",
    "print(f\"\\nModel loss on test set: {loss}\")\n",
    "print(f\"Model mean squared error on test set: {(mse):.2f}\")"
   ]
  },
  {
   "cell_type": "code",
   "execution_count": 12,
   "metadata": {
    "colab": {
     "base_uri": "https://localhost:8080/",
     "height": 295
    },
    "id": "1CD_HeZ1LFZ5",
    "outputId": "4caf3820-2be3-421d-9826-600baf83d452"
   },
   "outputs": [
    {
     "data": {
      "image/png": "[encoded data removed]",
      "text/plain": [
       "<Figure size 600x400 with 1 Axes>"
      ]
     },
     "metadata": {},
     "output_type": "display_data"
    }
   ],
   "source": [
    "# Plot the loss curves\n",
    "pd.DataFrame(history.history).plot(figsize=(6, 4), xlabel=\"Epochs\", ylabel=\"Loss\", title='Loss Curves')\n",
    "plt.show()"
   ]
  },
  {
   "cell_type": "markdown",
   "metadata": {
    "id": "Wsto_sf8fXM-"
   },
   "source": [
    "## Model Prediction"
   ]
  },
  {
   "cell_type": "code",
   "execution_count": 13,
   "metadata": {
    "colab": {
     "base_uri": "https://localhost:8080/"
    },
    "id": "TrKgnaZpfmJI",
    "outputId": "acd18217-d775-4d3a-b901-e490d8628d6f"
   },
   "outputs": [
    {
     "name": "stdout",
     "output_type": "stream",
     "text": [
      "3/3 [==============================] - 0s 2ms/step\n"
     ]
    },
    {
     "data": {
      "text/plain": [
       "array([21.771917], dtype=float32)"
      ]
     },
     "execution_count": 13,
     "metadata": {},
     "output_type": "execute_result"
    }
   ],
   "source": [
    "# Make predictions\n",
    "y_pred = model.predict(X_test)\n",
    "\n",
    "# View the first prediction\n",
    "y_pred[0]"
   ]
  },
  {
   "cell_type": "code",
   "execution_count": null,
   "metadata": {},
   "outputs": [],
   "source": []
  },
  {
   "cell_type": "code",
   "execution_count": null,
   "metadata": {},
   "outputs": [],
   "source": []
  }
 ],
 "metadata": {
  "accelerator": "GPU",
  "colab": {
   "collapsed_sections": [],
   "name": "Boston_Housing_Price_Prediction_with_a_Deep_Neural_Network.ipynb",
   "provenance": [],
   "toc_visible": true
  },
  "gpuClass": "standard",
  "kernelspec": {
   "display_name": "Python 3 (ipykernel)",
   "language": "python",
   "name": "python3"
  },
  "language_info": {
   "codemirror_mode": {
    "name": "ipython",
    "version": 3
   },
   "file_extension": ".py",
   "mimetype": "text/x-python",
   "name": "python",
   "nbconvert_exporter": "python",
   "pygments_lexer": "ipython3",
   "version": "3.11.2"
  }
 },
 "nbformat": 4,
 "nbformat_minor": 1
}
